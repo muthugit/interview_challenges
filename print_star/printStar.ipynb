{
 "cells": [
  {
   "cell_type": "markdown",
   "metadata": {},
   "source": [
    "### Declaring the Maximum values"
   ]
  },
  {
   "cell_type": "code",
   "execution_count": 1,
   "metadata": {},
   "outputs": [],
   "source": [
    "maxRows = 10\n",
    "maxCols = 100"
   ]
  },
  {
   "cell_type": "code",
   "execution_count": 2,
   "metadata": {},
   "outputs": [
    {
     "name": "stdout",
     "output_type": "stream",
     "text": [
      "****************************************************************************************************\n",
      "*                                                                                                  *\n",
      "*                                                                                                  *\n",
      "*                                                                                                  *\n",
      "*                                                                                                  *\n",
      "*                                                                                                  *\n",
      "*                                                                                                  *\n",
      "*                                                                                                  *\n",
      "*                                                                                                  *\n",
      "****************************************************************************************************\n"
     ]
    }
   ],
   "source": [
    "for i in range(maxRows):\n",
    "    star = \"*\"\n",
    "    for j in range(maxCols-2):\n",
    "        if(i==0 or i==maxRows-1):\n",
    "            star = star + \"*\"\n",
    "        else:\n",
    "            star = star + \" \"\n",
    "    print(star+\"*\")"
   ]
  }
 ],
 "metadata": {
  "kernelspec": {
   "display_name": "Python 3",
   "language": "python",
   "name": "python3"
  },
  "language_info": {
   "codemirror_mode": {
    "name": "ipython",
    "version": 3
   },
   "file_extension": ".py",
   "mimetype": "text/x-python",
   "name": "python",
   "nbconvert_exporter": "python",
   "pygments_lexer": "ipython3",
   "version": "3.7.1"
  }
 },
 "nbformat": 4,
 "nbformat_minor": 2
}
